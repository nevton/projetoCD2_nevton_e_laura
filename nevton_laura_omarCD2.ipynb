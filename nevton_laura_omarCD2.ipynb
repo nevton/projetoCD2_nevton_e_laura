{
 "cells": [
  {
   "cell_type": "markdown",
   "metadata": {},
   "source": [
    "# Projeto 2 - Ciência dos Dados"
   ]
  },
  {
   "cell_type": "markdown",
   "metadata": {},
   "source": [
    "Nome: Nevton de Castro\n",
    "\n",
    "Nome: Omar Dibo\n",
    "\n",
    "Nome: Laura Perim "
   ]
  },
  {
   "cell_type": "markdown",
   "metadata": {},
   "source": [
    "Serão permitidos grupos de três pessoas, mas com uma rubrica mais exigente. Grupos deste tamanho precisarão fazer um questionário de avaliação de trabalho em equipe"
   ]
  },
  {
   "cell_type": "markdown",
   "metadata": {},
   "source": [
    "___\n",
    "# Classificador automático de sentimento\n"
   ]
  },
  {
   "cell_type": "markdown",
   "metadata": {},
   "source": [
    "## Preparando o ambiente no jupyter:"
   ]
  },
  {
   "cell_type": "code",
   "execution_count": 1,
   "metadata": {},
   "outputs": [],
   "source": [
    "%%capture\n",
    "\n",
    "#Instalando o tweepy\n",
    "!pip install tweepy"
   ]
  },
  {
   "cell_type": "code",
   "execution_count": 80,
   "metadata": {
    "jupyter": {
     "outputs_hidden": true
    }
   },
   "outputs": [],
   "source": [
    "import tweepy\n",
    "import math\n",
    "import os.path\n",
    "import pandas as pd\n",
    "import json\n",
    "import re\n",
    "from random import shuffle"
   ]
  },
  {
   "cell_type": "markdown",
   "metadata": {},
   "source": [
    "___\n",
    "## Autenticando no  Twitter\n",
    "\n",
    "* Conta: ***@Devsegundoseme1***"
   ]
  },
  {
   "cell_type": "code",
   "execution_count": 81,
   "metadata": {
    "jupyter": {
     "outputs_hidden": true
    }
   },
   "outputs": [],
   "source": [
    "#Dados de autenticação do twitter: authpass\n",
    "\n",
    "#Coloque aqui o identificador da conta no twitter: @Devsegundoseme1\n",
    "\n",
    "#leitura do arquivo no formato JSON\n",
    "with open('auth.pass') as fp:\n",
    "    data = json.load(fp)\n",
    "    \n",
    "#Configurando a biblioteca. Não modificar\n",
    "auth = tweepy.OAuthHandler(data['consumer_key'], data['consumer_secret'])\n",
    "auth.set_access_token(data['access_token'], data['access_token_secret'])"
   ]
  },
  {
   "cell_type": "markdown",
   "metadata": {},
   "source": [
    "___\n",
    "## Etapas do projeto:"
   ]
  },
  {
   "cell_type": "markdown",
   "metadata": {},
   "source": [
    "### Escolha de um produto e coleta das mensagens\n"
   ]
  },
  {
   "cell_type": "code",
   "execution_count": 86,
   "metadata": {
    "jupyter": {
     "outputs_hidden": true
    }
   },
   "outputs": [],
   "source": [
    "#Produto escolhido:\n",
    "produto = 'civic'\n",
    "\n",
    "#Quantidade mínima de mensagens capturadas:\n",
    "n = 750\n",
    "#Quantidade mínima de mensagens para a base de treinamento:\n",
    "t = 500\n",
    "\n",
    "#Filtro de língua, escolha uma na tabela ISO 639-1.\n",
    "lang = 'pt'"
   ]
  },
  {
   "cell_type": "markdown",
   "metadata": {},
   "source": [
    "Capturando os dados do twitter:"
   ]
  },
  {
   "cell_type": "code",
   "execution_count": null,
   "metadata": {
    "jupyter": {
     "outputs_hidden": true
    }
   },
   "outputs": [],
   "source": [
    "#Cria um objeto para a captura\n",
    "api = tweepy.API(auth)\n",
    "\n",
    "#Inicia a captura, para mais detalhes: ver a documentação do tweepy\n",
    "i = 1\n",
    "msgs = []\n",
    "for msg in tweepy.Cursor(api.search, q=produto, lang=lang, tweet_mode=\"extended\").items():    \n",
    "    if msg.full_text.lower()[0] != 'r' and msg.full_text.lower()[1] != 't' and msg.full_text.lower()[2] != ' ':\n",
    "        msgs.append(msg.full_text.lower())\n",
    "        i += 1\n",
    "        if i > n:\n",
    "                break\n",
    "\n",
    "#Embaralhando as mensagens para reduzir um possível viés\n",
    "shuffle(msgs)"
   ]
  },
  {
   "cell_type": "markdown",
   "metadata": {},
   "source": [
    "Salvando os dados em uma planilha Excel:"
   ]
  },
  {
   "cell_type": "code",
   "execution_count": null,
   "metadata": {
    "jupyter": {
     "outputs_hidden": true
    }
   },
   "outputs": [],
   "source": [
    "#Verifica se o arquivo não existe para não substituir um conjunto pronto\n",
    "if not os.path.isfile('./{0}.xlsx'.format(produto)):\n",
    "    \n",
    "    #Abre o arquivo para escrita\n",
    "    writer = pd.ExcelWriter('{0}.xlsx'.format(produto))\n",
    "\n",
    "    #divide o conjunto de mensagens em duas planilhas\n",
    "    dft = pd.DataFrame({'Treinamento' : pd.Series(msgs1[:n])})\n",
    "    dft.to_excel(excel_writer = writer, sheet_name = 'Treinamento', index = False)\n",
    "\n",
    "    dfc = pd.DataFrame({'Teste' : pd.Series(msgs1[n:])})\n",
    "    dfc.to_excel(excel_writer = writer, sheet_name = 'Teste', index = False)\n",
    "\n",
    "    #fecha o arquivo\n",
    "    writer.save()\n",
    "\n"
   ]
  },
  {
   "cell_type": "markdown",
   "metadata": {},
   "source": [
    "___\n",
    "### Classificando as mensagens na coragem\n",
    "\n",
    "Esta etapa é manual. Faça a mesma pelo Excel."
   ]
  },
  {
   "cell_type": "code",
   "execution_count": 42,
   "metadata": {},
   "outputs": [],
   "source": [
    "civic = pd.read_excel('civic.xlsx')\n",
    "spm1 = civic[civic.valor==0] #tweets de spam ou venda\n",
    "irr1 = civic[civic.valor==1] #tweets irrelevantes\n",
    "rel1 = civic[civic.valor==2] #tweets de elogios ou criticas\n",
    "irr = irr1['Treinamento'].tolist()\n",
    "rel = rel1['Treinamento'].tolist()\n",
    "spm = spm1['Treinamento'].tolist()"
   ]
  },
  {
   "cell_type": "code",
   "execution_count": 43,
   "metadata": {},
   "outputs": [
    {
     "data": {
      "text/plain": [
       "1    538\n",
       "Name: valor, dtype: int64"
      ]
     },
     "execution_count": 43,
     "metadata": {},
     "output_type": "execute_result"
    }
   ],
   "source": [
    "spm1.valor.value_counts() #40\n",
    "rel1.valor.value_counts() #172\n",
    "irr1.valor.value_counts() #538"
   ]
  },
  {
   "cell_type": "markdown",
   "metadata": {},
   "source": [
    "___\n",
    "### Montando o Classificador Naive-Bayes\n",
    "\n",
    "Considerando apenas as mensagens da planilha Treinamento, ensine  seu classificador."
   ]
  },
  {
   "cell_type": "code",
   "execution_count": 44,
   "metadata": {},
   "outputs": [],
   "source": [
    "#limpando os tweets relevantes\n",
    "\n",
    "nop = [] \n",
    "#nao vamos remover \"#\" nem \"|\"\n",
    "for i in rel:                    #elimando os pontos dos tweets\n",
    "    punctuation = '[!\\-.:?;,_+]' \n",
    "    pattern = re.compile(punctuation)\n",
    "    text_subbed = re.sub(pattern, ' ', i.lower())\n",
    "    nop.append(text_subbed)\n",
    "    \n",
    "relevante_limpo = [] \n",
    "\n",
    "for i in nop:                    #eliminandno o produto dos tweets\n",
    "    trash = 'civic'\n",
    "    text_subbed = re.sub(trash, ' ', i)\n",
    "    relevante_limpo.append(text_subbed)\n",
    "    \n",
    "relfinal = [] \n",
    "for i in relevante_limpo:         \n",
    "    e = pd.Series(i.split())    #separa as palavras dos tweets\n",
    "    for i in e:                 \n",
    "        relfinal.append(i)      \n",
    "df = pd.DataFrame(relfinal)     #cria um dataframe para analisar a frequencia de cada palavra\n",
    "reldata = df[0].value_counts(True) \n",
    "\n",
    "#limpando os tweets irrelevantes\n",
    "\n",
    "nop2 = []\n",
    "for i in irr:                      #elimando os pontos dos tweets\n",
    "    punctuation = '[!\\-.:?;,_\\+]'\n",
    "    pattern = re.compile(punctuation)\n",
    "    text_subbed = re.sub(pattern, ' ', i.lower())\n",
    "    nop2.append(text_subbed)\n",
    "    \n",
    "irrelevante_limpo = []\n",
    "for i in nop2:                     #eliminandno o produto dos tweets\n",
    "    trash = 'civic'\n",
    "    text_subbed = re.sub(trash, ' ', i)\n",
    "    irrelevante_limpo.append(text_subbed)\n",
    "relfinal2 = []\n",
    "for i in irrelevante_limpo:        #separa as palavras dos tweets\n",
    "    e = pd.Series(i.split()) \n",
    "    for i in e:\n",
    "        relfinal2.append(i)\n",
    "df2 = pd.DataFrame(relfinal2)  \n",
    "irrdata = df2[0].value_counts(True)    \n",
    "\n",
    "#limpando os tweets de spam\n",
    "\n",
    "nop3 = []\n",
    "#nao vamos remover \"#\" nem \"|\"\n",
    "for i in spm:                        #elimando os pontos dos tweets\n",
    "    punctuation = '[!\\-.:?;,_\\+]'\n",
    "    pattern = re.compile(punctuation)\n",
    "    text_subbed = re.sub(pattern, ' ', i.lower())\n",
    "    nop3.append(text_subbed)\n",
    "spam_limpo = []\n",
    "for i in nop3:                       #eliminandno o produto dos tweets\n",
    "    trash = 'civic'\n",
    "    text_subbed = re.sub(trash, ' ', i)\n",
    "    spam_limpo.append(text_subbed)\n",
    "relfinal3 = []\n",
    "for i in spam_limpo:                 #separa as palavras dos tweets\n",
    "    e = pd.Series(i.split())\n",
    "    for i in e:\n",
    "        relfinal3.append(i)\n",
    "df3 = pd.DataFrame(relfinal3)\n",
    "spmdata = df3[0].value_counts(True)\n",
    "\n"
   ]
  },
  {
   "cell_type": "code",
   "execution_count": 45,
   "metadata": {},
   "outputs": [
    {
     "name": "stdout",
     "output_type": "stream",
     "text": [
      "2485\n",
      "8382\n",
      "1260\n"
     ]
    }
   ],
   "source": [
    "k = []\n",
    "oi = civic['Treinamento'].tolist()\n",
    "\n",
    "for i in oi:\n",
    "    \n",
    "    \n",
    "    s = i.split()\n",
    "    \n",
    "    for t in s:\n",
    "        \n",
    "        k.append(i)\n",
    "\n",
    "a = list(set(k))\n",
    "td = len(a)            #conta todas as palavras dos tweets\n",
    "\n",
    "k=[]\n",
    "for i in relevante_limpo:\n",
    "    s = i.split()\n",
    "    for t in s:\n",
    "        k.append(i)\n",
    "        \n",
    "tdrel = len(k)        #conta todas as palavras dos tweets relevantes\n",
    "\n",
    "k=[]\n",
    "for i in irrelevante_limpo:\n",
    "    s = i.split()\n",
    "    for t in s:\n",
    "        k.append(i)\n",
    "        \n",
    "tdirr = len(k)        #conta todas as palavras dos tweets irrelevantes\n",
    "\n",
    "k=[]\n",
    "for i in spam_limpo:\n",
    "    s = i.split()\n",
    "    for t in s:\n",
    "        k.append(i)\n",
    "        \n",
    "tdspm = len(k)        #conta todas as palavras dos tweets de spam\n",
    "print(tdrel)\n",
    "print(tdirr)\n",
    "print(tdspm)"
   ]
  },
  {
   "cell_type": "code",
   "execution_count": 46,
   "metadata": {},
   "outputs": [
    {
     "data": {
      "text/plain": [
       "0.0007936507936507937"
      ]
     },
     "execution_count": 46,
     "metadata": {},
     "output_type": "execute_result"
    }
   ],
   "source": [
    "df3[0].value_counts(True)['pneus']"
   ]
  },
  {
   "cell_type": "code",
   "execution_count": 47,
   "metadata": {},
   "outputs": [],
   "source": [
    "def Classificador_Naive_Bayes(tweets):  #classifica Naive-bayes\n",
    "    \n",
    "    lista =[]\n",
    "\n",
    "    d=-1\n",
    "    for i in tweets:  # i = cada tweet dentro de cada categoria (relevante,irrelevante,spam)\n",
    "        t=1\n",
    "\n",
    "        e = pd.Series(i.split())\n",
    "        \n",
    "        for w in e:                     # w = cada palvra dentro de cada tweet\n",
    "            if w in df[0].tolist():\n",
    "                r = df[0].value_counts(True)[w]     #basico, sem Laplace(ver proxima cell)\n",
    "            else:\n",
    "                r = 0                         \n",
    "            t = r*t\n",
    "        t*(172/750)        #numero de tweets relevantes/numero total de tweets\n",
    "        o=[]\n",
    "        o.append(t)         \n",
    "        lista.append(o)\n",
    "\n",
    "\n",
    "    d = -1\n",
    "    for i in tweets:  # i = cada tweet dentro de cada categoria (relevante,irrelevante,spam)\n",
    "        t =1\n",
    "        d =d+1\n",
    "        e = pd.Series(i.split())\n",
    "        for w in e:                     # w = cada palvra dentro de cada tweet\n",
    "            if w in df2[0].tolist():\n",
    "                r = df2[0].value_counts(True)[w]    #basico, sem Laplace(ver proxima cell)\n",
    "            else:\n",
    "                r= 0\n",
    "            t = r*t\n",
    "        t*(538/750)                  #numero de tweets irrelevantes/numero total de tweets\n",
    "        lista[d].append(t)\n",
    "\n",
    "    d = -1\n",
    "    for i in tweets:  \n",
    "        t =1\n",
    "        d =d+1\n",
    "        e = pd.Series(i.split())\n",
    "        for w in e:\n",
    "            if w in df3[0].tolist():\n",
    "                r = df3[0].value_counts(True)[w]    #basico, sem Laplace(ver proxima cell)\n",
    "            else:\n",
    "                r= 0\n",
    "            t = r*t\n",
    "        t*(40/750)                     #numero de tweets spam/numero total de tweets\n",
    "        lista[d].append(t)\n",
    "    qual=[]\n",
    "    m=-1\n",
    "    for i in lista:\n",
    "        m=m+1\n",
    "        if (lista[m][0] > lista[m][1]) and (lista[m][0] > lista[m][2]):\n",
    "            qual.append('relevante')\n",
    "        if (lista[m][1] > lista[m][0]) and (lista[m][1] > lista[m][2]):\n",
    "            qual.append('irrelevante')\n",
    "        if (lista[m][2] > lista[m][0]) and (lista[m][2] > lista[m][1]):\n",
    "            qual.append('spam')\n",
    "    return qual\n"
   ]
  },
  {
   "cell_type": "code",
   "execution_count": 48,
   "metadata": {},
   "outputs": [],
   "source": [
    "def Classificador_Naive_Bayes_laplace(tweets):  #classifica Naive-bayes com Laplace smooting\n",
    "    \n",
    "    lista =[]\n",
    "\n",
    "    d=-1\n",
    "    for i in tweets:  # i = cada tweet dentro de cada categoria (relevante,irrelevante,spam)\n",
    "        t=1\n",
    "\n",
    "        e = pd.Series(i.split())\n",
    "        \n",
    "        for w in e:                     # w = cada palvra dentro de cada tweet\n",
    "            if w in df[0].tolist():\n",
    "                r = (df[0].value_counts()[w]+1)/(tdrel + td)   #Laplace smooting\n",
    "            else:\n",
    "                r = 1/(tdrel + td)                             #Laplace smooting\n",
    "            t = r*t\n",
    "        t*(172/750)        #numero de tweets relevantes/numero total de tweets\n",
    "        o=[]\n",
    "        o.append(t)         \n",
    "        lista.append(o)\n",
    "\n",
    "\n",
    "    d = -1\n",
    "    for i in tweets:  # i = cada tweet dentro de cada categoria (relevante,irrelevante,spam)\n",
    "        t =1\n",
    "        d =d+1\n",
    "        e = pd.Series(i.split())\n",
    "        for w in e:                     # w = cada palvra dentro de cada tweet\n",
    "            if w in df2[0].tolist():\n",
    "                r = (df2[0].value_counts()[w]+1)/(tdirr + td)  #Laplace smooting\n",
    "            else:\n",
    "                r= 1/(tdirr + td)                              #Laplace smooting\n",
    "            t = r*t\n",
    "        t*(538/750)                  #numero de tweets irrelevantes/numero total de tweets\n",
    "        lista[d].append(t)\n",
    "\n",
    "    d = -1\n",
    "    for i in tweets:  \n",
    "        t =1\n",
    "        d =d+1\n",
    "        e = pd.Series(i.split())\n",
    "        for w in e:\n",
    "            if w in df3[0].tolist():\n",
    "                r = (df3[0].value_counts()[w]+1)/(tdspm + td) #Laplace smooting\n",
    "            else:\n",
    "                r= 1/(tdspm+td)                               #Laplace smooting\n",
    "            t = r*t\n",
    "        t*(40/750)                     #numero de tweets spam/numero total de tweets\n",
    "        lista[d].append(t)\n",
    "    classificados=[]\n",
    "    m=-1\n",
    "    for i in lista:\n",
    "        m=m+1\n",
    "        if (lista[m][0] > lista[m][1]) and (lista[m][0] > lista[m][2]): #julga se e relevante\n",
    "            classificados.append('relevante')\n",
    "        if (lista[m][1] > lista[m][0]) and (lista[m][1] > lista[m][2]): #julga se e irrelevante\n",
    "            classificados.append('irrelevante')\n",
    "        if (lista[m][2] > lista[m][0]) and (lista[m][2] > lista[m][1]): #julga se e spam\n",
    "            classificados.append('spam')\n",
    "    return classificados\n"
   ]
  },
  {
   "cell_type": "markdown",
   "metadata": {},
   "source": [
    "___\n",
    "### Verificando a performance\n",
    "\n",
    "Agora você deve testar o seu classificador com a base de Testes."
   ]
  },
  {
   "cell_type": "code",
   "execution_count": 71,
   "metadata": {},
   "outputs": [
    {
     "name": "stdout",
     "output_type": "stream",
     "text": [
      "numero total de erros nos relevantes: 6\n",
      "porcentagem de erros: 3%\n"
     ]
    }
   ],
   "source": [
    "\n",
    "erros_rel = 0\n",
    "for i in Classificador_Naive_Bayes_laplace(relevante_limpo):\n",
    "    if i != 'relevante':\n",
    "        erros_rel  += 1       #erros na classificao de relevantes\n",
    "\n",
    "print('numero total de erros nos relevantes: {0}'.format(erros_rel))\n",
    "r = int(100*erros_rel/172)\n",
    "print('porcentagem de erros: {0}%'.format(r))"
   ]
  },
  {
   "cell_type": "code",
   "execution_count": 72,
   "metadata": {},
   "outputs": [
    {
     "name": "stdout",
     "output_type": "stream",
     "text": [
      "numero total de erros nos irrelevantes: 281\n",
      "porcentagem de erros: 52%\n"
     ]
    }
   ],
   "source": [
    "erros_irr = 0\n",
    "for i in Classificador_Naive_Bayes_laplace(irrelevante_limpo):\n",
    "    if i != 'irrelevante':\n",
    "        erros_irr += 1       #erros na classificao de irrelevantes\n",
    "\n",
    "print('numero total de erros nos irrelevantes: {0}'.format(erros_irr))\n",
    "i = int(100*erros_irr/538)\n",
    "print('porcentagem de erros: {0}%'.format(i))"
   ]
  },
  {
   "cell_type": "code",
   "execution_count": 73,
   "metadata": {},
   "outputs": [
    {
     "name": "stdout",
     "output_type": "stream",
     "text": [
      "numero total de erros nos spams: 0\n",
      "porcentagem de erros: 0%\n"
     ]
    }
   ],
   "source": [
    "erros_spm = 0\n",
    "for i in Classificador_Naive_Bayes_laplace(spam_limpo):\n",
    "    if i != 'spam':        \n",
    "        erros_spm += 1        #erros na classificao de spam\n",
    "\n",
    "print('numero total de erros nos spams: {0}'.format(erros_spm))\n",
    "s = int(100*erros_spm/40)\n",
    "print('porcentagem de erros: {0}%'.format(erros_spm))"
   ]
  },
  {
   "cell_type": "code",
   "execution_count": 75,
   "metadata": {},
   "outputs": [
    {
     "name": "stdout",
     "output_type": "stream",
     "text": [
      "todos os erros: 287\n",
      "porcentagem de erros: 38%\n"
     ]
    }
   ],
   "source": [
    "erros_total = erros_rel + erros_irr + erros_spm      #erros totais\n",
    "print('todos os erros: {0}'.format(erros_total))\n",
    "t = int(100*erros_total/750)\n",
    "print('porcentagem de erros: {0}%'.format(t))"
   ]
  },
  {
   "cell_type": "markdown",
   "metadata": {},
   "source": [
    "# Monitoramento periódico de análise de sentimento que fica rodando em loop e apresenta as informações  em um painel"
   ]
  },
  {
   "cell_type": "code",
   "execution_count": 79,
   "metadata": {},
   "outputs": [
    {
     "data": {
      "text/plain": [
       "['relevante', 'spam', 'relevante']"
      ]
     },
     "execution_count": 79,
     "metadata": {},
     "output_type": "execute_result"
    }
   ],
   "source": [
    "teste = ['eu amo o civic ele e muito legal', 'vendo civic usado so chamar no zapzap', 'nossa eu amo o civic usado que minha mae roubou do meu pai depois do divorcio']\n",
    "Classificador_Naive_Bayes_laplace(teste)"
   ]
  },
  {
   "cell_type": "code",
   "execution_count": 111,
   "metadata": {},
   "outputs": [
    {
     "data": {
      "text/plain": [
       "['relevante', 'relevante', 'relevante', 'relevante', 'relevante']"
      ]
     },
     "execution_count": 111,
     "metadata": {},
     "output_type": "execute_result"
    }
   ],
   "source": [
    "#proof of concept\n",
    "\n",
    "api = tweepy.API(auth)\n",
    "i = 1\n",
    "msgs = []\n",
    "for msg in tweepy.Cursor(api.search, q=produto, lang=lang, tweet_mode=\"extended\").items():    \n",
    "    if msg.full_text.lower()[0] != 'r' and msg.full_text.lower()[1] != 't' and msg.full_text.lower()[2] != ' ':\n",
    "        msgs.append(msg.full_text.lower())\n",
    "        i += 1\n",
    "        if i > 5:\n",
    "            break\n",
    "\n",
    "\n",
    "Classificador_Naive_Bayes_laplace(msgs)"
   ]
  },
  {
   "cell_type": "code",
   "execution_count": null,
   "metadata": {},
   "outputs": [],
   "source": [
    "import time\n",
    "\n",
    "while True:\n",
    "    time.sleep(300)    #a cada 5 minutos 5 novos tweets sao avaliados\n",
    "    api = tweepy.API(auth)\n",
    "    i = 1\n",
    "    msgs = []\n",
    "    for msg in tweepy.Cursor(api.search, q=produto, lang=lang, tweet_mode=\"extended\").items():    \n",
    "        if msg.full_text.lower()[0] != 'r' and msg.full_text.lower()[1] != 't' and msg.full_text.lower()[2] != ' ':\n",
    "            msgs.append(msg.full_text.lower())\n",
    "            i += 1\n",
    "            if i > 5:\n",
    "                print(msgs)\n",
    "                print(Classificador_Naive_Bayes_laplace(msgs))\n",
    "                break\n",
    "\n"
   ]
  },
  {
   "cell_type": "markdown",
   "metadata": {},
   "source": [
    "___\n",
    "### Concluindo"
   ]
  },
  {
   "cell_type": "markdown",
   "metadata": {},
   "source": [
    "   Nesse trabalho analisamos 750 tweets, classificando entre 3 categorias (spam, irrelevantes e relevantes) a fim de criar um banco de dados que pode classificar futuros tweets utilizando o método de Naive Bayes. \n",
    "   Para refinar a classificação, removemos os pontos dos tweets, assim como o nome do produto (civic) analisado nesse projeto e também utilizamos o método de Laplace para aprimorar os resultados. \n",
    "   Para verificar a precisão das previsões, rodamos o programa nos itens já avaliados, com isso obtivemos os resultados de 3% de erro na classificação de tweets relevantes, 52% de erros na classificação de tweets irrelevantes e 0% de erro em tweets de spam, totalizando um total de 38% de erro.\n",
    "   Por fim, Criamos um ‘while True’, para classificar novos tweets em tempo real (a cada 5 minutos).\n",
    "   "
   ]
  },
  {
   "cell_type": "markdown",
   "metadata": {},
   "source": [
    "#### O que poderia melhorar\n",
    "\n",
    "   Para melhorar a precisão poderíamos ter mais tweets de base de dados e poderíamos adiciona-los para a base conforme o programa classifica esses novos tweets, assim entrando em machine learning. "
   ]
  },
  {
   "cell_type": "markdown",
   "metadata": {},
   "source": [
    "# Referências"
   ]
  },
  {
   "cell_type": "markdown",
   "metadata": {},
   "source": [
    "[Naive Bayes and Text Classification](https://arxiv.org/pdf/1410.5329.pdf)  **Mais completo**\n",
    "\n",
    "[A practical explanation of a Naive Bayes Classifier](https://monkeylearn.com/blog/practical-explanation-naive-bayes-classifier/) **Mais simples**"
   ]
  }
 ],
 "metadata": {
  "kernelspec": {
   "display_name": "Python 3",
   "language": "python",
   "name": "python3"
  },
  "language_info": {
   "codemirror_mode": {
    "name": "ipython",
    "version": 3
   },
   "file_extension": ".py",
   "mimetype": "text/x-python",
   "name": "python",
   "nbconvert_exporter": "python",
   "pygments_lexer": "ipython3",
   "version": "3.7.1"
  }
 },
 "nbformat": 4,
 "nbformat_minor": 4
}
